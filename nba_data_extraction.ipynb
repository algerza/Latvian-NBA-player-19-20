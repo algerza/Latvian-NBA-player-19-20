{
 "cells": [
  {
   "cell_type": "markdown",
   "metadata": {},
   "source": [
    "# Import all the necessary packages and dependencies\n"
   ]
  },
  {
   "cell_type": "code",
   "execution_count": 22,
   "metadata": {},
   "outputs": [],
   "source": [
    "# Import packages\n",
    "from nba_api.stats.endpoints import shotchartdetail\n",
    "from nba_api.stats.endpoints import playergamelog\n",
    "from nba_api.stats.static import players\n",
    "from nba_api.stats.library.parameters import SeasonAll\n",
    "from nba_api.stats.endpoints import shotchartleaguewide\n",
    "import json\n",
    "import requests\n",
    "import pandas as pd\n",
    "from datetime import datetime\n",
    "import matplotlib as mpl\n",
    "import matplotlib.pyplot as plt\n",
    "import seaborn as sns"
   ]
  },
  {
   "cell_type": "markdown",
   "metadata": {},
   "source": [
    "# Define player_id and team_id for this season\n",
    "This can be found on stats.nba/com"
   ]
  },
  {
   "cell_type": "code",
   "execution_count": 23,
   "metadata": {},
   "outputs": [],
   "source": [
    "player_dict = {204001:\"Kristaps Porzingis\", 202722:\"Davis Bertans\", 1628394:\"Anzejs Pasecniks\", 1629066:\"Rodions Kurucs\"}\n",
    "team_dict = {1610612742: 'dallas_mavericks', 1610612764: 'washington_wizards', 1610612751: 'brookly_nets'}"
   ]
  },
  {
   "cell_type": "markdown",
   "metadata": {},
   "source": [
    "# Get overall seasons stats per player"
   ]
  },
  {
   "cell_type": "code",
   "execution_count": 24,
   "metadata": {},
   "outputs": [],
   "source": [
    "gamelog_player = playergamelog.PlayerGameLog(player_id='204001', season = '2019').get_data_frames()[0]\n",
    "kristaps_porzingis_overall_stats = gamelog_player[['Player_ID', 'GAME_DATE', 'Game_ID', 'PTS', 'MIN']]\n",
    "\n",
    "gamelog_player = playergamelog.PlayerGameLog(player_id='202722', season = '2019').get_data_frames()[0]\n",
    "davis_bertans_overall_stats = gamelog_player[['Player_ID', 'GAME_DATE', 'Game_ID', 'PTS', 'MIN']]\n",
    "\n",
    "gamelog_player = playergamelog.PlayerGameLog(player_id='1628394', season = '2019').get_data_frames()[0]\n",
    "anzejs_pasecniks_overall_stats = gamelog_player[['Player_ID', 'GAME_DATE', 'Game_ID', 'PTS', 'MIN']]\n",
    "\n",
    "gamelog_player = playergamelog.PlayerGameLog(player_id='1629066', season = '2019').get_data_frames()[0]\n",
    "rodions_kurucs_overall_stats = gamelog_player[['Player_ID', 'GAME_DATE', 'Game_ID', 'PTS', 'MIN']]"
   ]
  },
  {
   "cell_type": "markdown",
   "metadata": {},
   "source": [
    "# Get shot detailed data per player and league"
   ]
  },
  {
   "cell_type": "code",
   "execution_count": 25,
   "metadata": {},
   "outputs": [],
   "source": [
    "# Get datasets for specific players\n",
    "kristaps_porzingis_shot = shotchartdetail.ShotChartDetail(player_id='204001', team_id = '1610612742').get_data_frames()[0]\n",
    "davis_bertans_shot = shotchartdetail.ShotChartDetail(player_id='202722', team_id = '1610612764').get_data_frames()[0]\n",
    "anzejs_pasecniks_shot = shotchartdetail.ShotChartDetail(player_id='1628394', team_id = '1610612764').get_data_frames()[0]\n",
    "rodions_kurucs_shot = shotchartdetail.ShotChartDetail(player_id='1629066', team_id = '1610612751').get_data_frames()[0]\n",
    "\n",
    "# Get dataset for league shot averages\n",
    "nba_average_shot = shotchartleaguewide.ShotChartLeagueWide(league_id='00', season = '2019-20').get_data_frames()[0]"
   ]
  },
  {
   "cell_type": "markdown",
   "metadata": {},
   "source": [
    "# Clean and prepare final datasets"
   ]
  },
  {
   "cell_type": "code",
   "execution_count": 26,
   "metadata": {},
   "outputs": [],
   "source": [
    "# Append individual dataframes in order to create our 2 final datasets\n",
    "full_overall_stats = kristaps_porzingis_overall_stats.append(davis_bertans_overall_stats, ignore_index=True).append(anzejs_pasecniks_overall_stats, ignore_index=True).append(rodions_kurucs_overall_stats, ignore_index=True)\n",
    "full_shot = kristaps_porzingis_shot.append(davis_bertans_shot, ignore_index=True).append(anzejs_pasecniks_shot, ignore_index=True).append(rodions_kurucs_shot, ignore_index=True)"
   ]
  },
  {
   "cell_type": "code",
   "execution_count": 27,
   "metadata": {},
   "outputs": [],
   "source": [
    "# We convert Player_ID into a string name with our dictionary. Example: Previously 204001 and now replaced by \"Kristaps Porzingis\" \n",
    "full_overall_stats['GAME_DATE'] = pd.to_datetime(full_overall_stats['GAME_DATE'])\n",
    "full_overall_stats = full_overall_stats.replace({\"Player_ID\": player_dict})\n",
    "\n",
    "# In order to have the same data matching with overall_stats dataframe, we apply the same logic\n",
    "full_shot['GAME_DATE'] = pd.to_datetime(full_shot['GAME_DATE'])\n",
    "full_shot = full_shot.replace({\"PLAYER_ID\": player_dict})\n",
    "\n",
    "# To create the top 5 games with highest score per user, we need to concatenate the teams names\n",
    "full_shot['GAME_TITLE'] = full_shot[\"HTM\"] + '-' + full_shot[\"VTM\"]\n",
    "\n",
    "# Apply uppercase function to the overall stats dataframe, so both dataframes are consistent\n",
    "full_overall_stats.columns = map(lambda x: str(x).upper(), full_overall_stats.columns)"
   ]
  },
  {
   "cell_type": "markdown",
   "metadata": {},
   "source": [
    "# Export Data"
   ]
  },
  {
   "cell_type": "code",
   "execution_count": 28,
   "metadata": {},
   "outputs": [],
   "source": [
    "# Save datasets as csv files\n",
    "full_overall_stats.to_csv('full_overall_stats.csv')\n",
    "full_shot.to_csv('full_shot.csv')\n",
    "nba_average_shot.to_csv('nba_average_shot.csv')"
   ]
  },
  {
   "cell_type": "code",
   "execution_count": 29,
   "metadata": {},
   "outputs": [],
   "source": [
    "# # If you want all seasons, you must import the SeasonAll parameter \n",
    "# from nba_api.stats.library.parameters import SeasonAll\n",
    "\n",
    "# gamelog_bron_all = playergamelog.PlayerGameLog(player_id='2544', season = SeasonAll.all)\n",
    "\n",
    "# df_bron_games_all = gamelog_bron_all.get_data_frames()"
   ]
  }
 ],
 "metadata": {
  "kernelspec": {
   "display_name": "Python 3",
   "language": "python",
   "name": "python3"
  },
  "language_info": {
   "codemirror_mode": {
    "name": "ipython",
    "version": 3
   },
   "file_extension": ".py",
   "mimetype": "text/x-python",
   "name": "python",
   "nbconvert_exporter": "python",
   "pygments_lexer": "ipython3",
   "version": "3.8.3"
  }
 },
 "nbformat": 4,
 "nbformat_minor": 4
}
